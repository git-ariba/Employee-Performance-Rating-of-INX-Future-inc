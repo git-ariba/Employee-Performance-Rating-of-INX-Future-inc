{
 "cells": [
  {
   "cell_type": "markdown",
   "id": "38bf0d35",
   "metadata": {},
   "source": [
    "Name: **Ariba Cindy Cota**\n",
    "\n",
    "Module :**Certified Data Scientist - Project**  "
   ]
  },
  {
   "cell_type": "markdown",
   "id": "e0984d05",
   "metadata": {},
   "source": [
    "# Summary of INX Future Inc. Employee Performance"
   ]
  },
  {
   "cell_type": "markdown",
   "id": "dbdf10b4",
   "metadata": {},
   "source": [
    "# Table of Content\n",
    "\n",
    "### 1.Business Case\n",
    "-the case\n",
    "\n",
    "### 2. Data Summary \n",
    "- Attributes list\n",
    "- Basic libraries imported\n",
    "- Basic Data Checks\n",
    "\n",
    "### 3. Exploratory Data Analysis Findings\n",
    "- Univatiate Analysis \n",
    "- Bivariate Analysis\n",
    "- Multivariate Analysis\n",
    "\n",
    "### 4. Data Pre Processing\n",
    "- Null/duplicate values\n",
    "- Encoding data -Lable Encoder\n",
    "- Outliers- Box Plots\n",
    "\n",
    "\n",
    "### 5. Feature Engineering\n",
    "- Feature Transformation: Standardization (StandardScalar)\n",
    "- Feature Selection: Chi sq\n",
    "- Feature Extraction : PCA tried and tested but underperformed.\n",
    "\n",
    "\n",
    "### 6. Models and Model evaluation\n",
    "- SMOTE- Data Balancing\n",
    "\n",
    "### 7. Tasks (1,2,3,4)\n",
    "\n",
    "\n",
    "_______________________________________________________________________________________________________"
   ]
  },
  {
   "cell_type": "markdown",
   "id": "89456cbe",
   "metadata": {},
   "source": [
    "# 1. Business Case\n",
    "\n",
    "INX Future Inc. has over 15 years of global business presence as a Data Analytics and Automation solutions provider. In it's domain INX has been one of the top most brands and consistently been rated top 20 best employers for the past 5 years it's  Human resource policies are considered as employee friendly and widely perceived as the best practices in the industry.\n",
    "however, in Recent years;\n",
    "- A. It's employee performance indexes show signs of decline, and this is a concern to the top-level management. \n",
    "- B. There has been a noticeable increase in service delivery and \n",
    "- C. Client satisfaction levels have come down by 8 percentage points.\n",
    "\n",
    "The current CEO is aware of the issues but is concerned because any measures taken against the non-performing \n",
    "employees would affect the morale of all the employees in general and their brands image.Therefore, the CEO Mr.Brain decides to initiate this data science project which would aim to; Analyze the current employee data, and Find the root underlying causes of this performance issues.\n",
    "\n",
    "\n",
    "\n",
    "\n",
    "\n",
    "_________________________________________________________________________________________________________________"
   ]
  },
  {
   "cell_type": "markdown",
   "id": "42558e33",
   "metadata": {},
   "source": [
    "# 2. Data Summary"
   ]
  },
  {
   "cell_type": "markdown",
   "id": "23aa6d6c",
   "metadata": {},
   "source": [
    "##### Independent Attributes :  \n",
    "1. **EmpNumber**: Employee number is a unique key given to each employee, each key is distinct \n",
    "2. **Age**: Age of employees is a continuous variable, and would determine the productivity against changing age.  \n",
    "3. **Gender**: This is a descrete feature that would help determine the output with respect the gender.\n",
    "4. **EducationBackground**: The Educational Background of each employee\n",
    "5. **MaritalStatus**: This attribute would emplain how much time and determination employees concentrate on the company.\n",
    "6. **EmpDepartment**:company Depertments would provide data of output/performance of each department at the company.\n",
    "7. **EmpJobRole**: will help determine the employees departmental position in the company.\n",
    "8. **BusinessTravelFrequency**:Employees permitted to travel for work and their frequency.\n",
    "9. **DistanceFromHome**: the distance employee would have to commute to be at work.\n",
    "10. **EmpEducationLevel**: this level will help understanding employees interest in their domain. \n",
    "11. **EmpEnvironmentSatisfaction**: provides a scale of satisfaction of an employee in the work environment.\n",
    "12. **EmpHourlyRate**:is an amount of money/rate an employee is paid for each hour of work they perform.\n",
    "13. **EmpJobInvolvement**: refers to the extent to which they are intentionally invested, committed at their work. \n",
    "14. **EmpJobLevel**: Employee job levels categorize various responsiblity levels of an employees. \n",
    "15. **EmpJobSatisfaction**:the level of setisfaction of an employee towards their job role. \n",
    "16. **NumCompaniesWorked**:the number of companies an employee has worked for in total.\n",
    "17. **OverTime**: classifies whether an employee has worked over time or not.\n",
    "18. **EmpLastSalaryHikePercent**:the last salary hike indicates that the employees hard work is recognized \n",
    "19. **EmpRelationshipSatisfaction**: the employee relationship with their colleagues, subordinates or higher ups.\n",
    "20. **TotalWorkExperienceInYears**:The total work experiance in years determine how experianced/ proficient an employee can be. \n",
    "21. **TrainingTimesLastYear**:This attribut quantifies the number of times an employee was trained.\n",
    "22. **EmpWorkLifeBalance**: can determine whether an employee \n",
    "23. **ExperienceYearsAtThisCompany**:This column quantifies the number of years an employee has been working for INX. \n",
    "24. **ExperienceYearsInCurrentRole**: quatifies the number of years an employee ah held a position at INX.\n",
    "25. **YearsSinceLastPromotion**:this is the number of Years since an employee was last promoted. \n",
    "26. **YearsWithCurrManager**:number of years an employee has worked under their current manager.\n",
    "27. **Attrition**: indictes is a employee has left the Job in the past.\n",
    "\n",
    "#### Target Variable \n",
    "28. **PerformanceRating**:Various factors can affect the performance Rating of an employee, such as those listed above."
   ]
  },
  {
   "cell_type": "markdown",
   "id": "804b266c",
   "metadata": {},
   "source": [
    "##### Basic Libraries \n",
    "- numpy\n",
    "- seaborn \n",
    "- matplotlib.pyplot\n",
    "- pandas"
   ]
  },
  {
   "cell_type": "markdown",
   "id": "9cf109b5",
   "metadata": {},
   "source": [
    "#### Basic Data Checks "
   ]
  },
  {
   "cell_type": "markdown",
   "id": "c122215f",
   "metadata": {},
   "source": [
    "- with reference to data.info and describe these were the findings;\n",
    "- Originally there are 28 Attributes, of which 1 is the target variable\n",
    "- there are no null rows/data\n",
    "- the data types are integer and objects \n",
    "- standard deviation, mean and IQR of the data.\n",
    "\n",
    "\n",
    "\n",
    "\n",
    "____________________________________________________________________________________________________"
   ]
  },
  {
   "cell_type": "markdown",
   "id": "68347bce",
   "metadata": {},
   "source": [
    "# 3. EXPLORATORY DATA ANALYSIS - Visualization\n",
    "\n",
    "#### Exploratory data Analysis will include ; Univariate Analysis and Bivariate Analysis.\n",
    "\n",
    "**1. Univariate Analysis** will helped understanding each column/ attribute individually, its content and count/ spread of each variable. \n",
    "\n",
    "- For these analysis **Seaborn** Library were  used as visualization tools alongside **sweetviz** for more detailed output.\n",
    "- Histogram will be used univatiate analysis using Seaborn. \n",
    "\n",
    "**2. Bivariate Analysis** Bivariate analysis will help determine whether there is a relationship or association between two variables. It helps answer questions like: Are these two variables related, and if so, to what extent\n",
    "\n",
    "**3. Multi variate analysis** multiple columns will be compared with eachother using the correlation corfficient function/ Heatmaps etc.\n"
   ]
  },
  {
   "cell_type": "markdown",
   "id": "da80acf6",
   "metadata": {},
   "source": [
    "### Unvariate Analysis -A  Quantitative summary\n",
    "\n",
    "- 1. **Age** of Employees range between 18 and 60, with the average age being 36-37\n",
    "- 2. **Gender**: 60% of the employees are Male, and 40% Female\n",
    "- 3. **Education**: more tahn 40% of the employees are educated in the field of Life sciences, followed by, medical,marketing, technical degree and more the 5% belong to other streams.\n",
    "- 4. **Maritial Status** is as follows; about 45% of the employee are Married, more than 30% single and more than 20% Divorced.\n",
    "- *5. About 30% of INX Work force is in sales, almost 60% is in research & development + Development combined(29+30). About less than 5% in Human Resourses department, and only about about 6-7% belong to other **departments**.\n",
    "- 6. In the **Job role** segment, more than 20% employees are sales executives holding the hightst percentage, followed by Developers with almost 20% of the workforce, a little less than 10% are R&D managers, over 5% are research Scientist, while the rest other roles in accumulation form above 40% of the total.\n",
    "- 7. **Travel Frequency**: about 65% employees rarely travel, less than 20% travel frequently and about 10% are non travellers.\n",
    "- 8. The **Minimum Distance from home** to the company travelled by an employee is 1 Km (assuming Kilometers) and the maximum being 29Km. while on a average employees travel 9.2Km, and has a median 7Km.\n",
    "- 9. when is comes to **Education Level** more than 35% have a Bachelors Degree (markes as level 3), more tahn 25% hold a Masters (marked as level 4), 20% have completed College (level 2) , more than 10% have completed a Below College level education (level 1), and a small proportion of the employees hold a doctorate degree.\n",
    "- 10. **Environmental Satisfaction & Job satisfaction**:above 30% of the employees say that their satisfaction level is 'High'(3), 30% are'Very Highly'satisfied(4),20% say they have a medium satisfaction level(2), a slightly smaller proportion of employees have rated theiR satisfaction level 'low'(1).  More than 30% have rated their Job Satisfaction 4 (very high), 30% rated 3 (high), about 20% rated theirs satisfaction a 2 (medium), and 19% rater 1 (low)\n",
    "- 11. The Maximum **Hourly Rate** is 100 (assuming Indian Rs) and min is 30 Rs, while on an average employees are paid Rs 66 per hour.\n",
    "- 12. **Job Involvement** : 60% of the employees have a 'high' job involvement (3), above 20% show medium involvement (marked 2), about 10% show very high involvement (4), below 5% interact to least.\n",
    "- 13. **Job Level**: about 70% of the employees belong to the lower level management(1 and 2), 14% belong to the middle level (3), and 8% belong to a higher level and only 5% comprise the topmost level of management.\n",
    "- 14. Number of companies worked : more tha 30% employees have worked in 1 other company before joining INX, 13% have started their first job at INX, and about 5%. And about 30% of the employess have worked with 4 to 9 companies before joining INX.\n",
    "- 15. about 70% of the employess **work overtime** and and the rest do not\n",
    "- 16. the highest **last salary hike** of an employee is 25%, and the least was 11, while on an average the hike % at INX 14 to 15.2%\n",
    "- 17. The **Employee Relationship Satisfaction** is rated 3 and 4 mostly (32% and 30%), whereas 20% rated it a 2 (medium), and 18% rated it 1 i.e. low.\n",
    "- 18. \n",
    "- a. The highest **total work experiance** of an employee at INX is 40 years, and minimum 0 years. on a average employees have a total work experiance of 10 to 11.3 %.   \n",
    "\n",
    "- b. where as the average  work **experiance in years with INX** is 5-7 years.  \n",
    "\n",
    "- c. when it comes to experiance at the current role, employees have a maximul of 18 and minimum of 0 years with the average being 3 to 4.3 years.\n",
    "- d. **years with Current Manager** : the maximum years an employee had worked with its current manager is 17. with an average of 3 yo 4 years.\n",
    "\n",
    "\n",
    "(Note: there seems to be high correlation amongst the above (point 19) attributes)\n",
    "- 19. The Highest number of **Train Times** last year was, 2 (37% of employees), followed by 3 times, 16% of the employees were trained 4 to 5 times. and 8% of the employees were trained 0 times and 6 times in total.\n",
    "- 20. 5% of the employees have a 'bad' **work life balance** (rated 1),  60% have a better work life balance (rated 3), 24% have rated it a 2 (good balance).\n",
    "- 21. a small percentage of the employees were **previously promoted** in the last 8 to 15 years, whereas about 40% and 30% of the employees where last promoted in less than 1 year and 1 year respectively.\n",
    "- 22. **Attrition**: This attribute indicates that 85% of the employees in the organization have not left their positions where as 15% have left organization/organizations.\n",
    "- 23. More than 73% of the employees have a **Performance Rating** of 3 that is Excellent, More than 15% have a rating of 2 (good), more than 10% have an outstanding rating of 4 with is the highest and none of the have a low rating of 1."
   ]
  },
  {
   "cell_type": "markdown",
   "id": "88ba3543",
   "metadata": {},
   "source": [
    "### Bivariate Analysis"
   ]
  },
  {
   "cell_type": "markdown",
   "id": "03ccb151",
   "metadata": {},
   "source": [
    "**Assumptions: Research & Development and  Development (Assuming an entry Error), fall under the same umbrella, and and can be clubbed as 1 department i.e. Research and Development** \n",
    "\n",
    "Note: before merging the two, Development has 30% of the employees under it, and Research & Development has 29%\n",
    "after merging, Department will also be named as Research & Development will have about 60% of the work force under it ( 59% to be precise)\n"
   ]
  },
  {
   "cell_type": "markdown",
   "id": "4b629432",
   "metadata": {},
   "source": [
    "Data Scientist, Research & Development, Human Resources Department  have the highest mean rating, while sales and finance have the lowest average Performance rating."
   ]
  },
  {
   "cell_type": "markdown",
   "id": "a3b311d9",
   "metadata": {},
   "source": [
    "### Bivariate Analysis of Independent Variables against eachother."
   ]
  },
  {
   "cell_type": "markdown",
   "id": "28c9b848",
   "metadata": {},
   "source": [
    "Summary of Bivariate Analysis :\n",
    "1. **Age V/s Attrition** :it is Observed that the attrition Rate is high among the yonger age group of employees i.e. 18 to 25 years of age \n",
    "    where as the attrition is the lowest in the late 50's age bracket.\n",
    "    \n",
    "2. **Employee Job Level v/s Gender**: it is observed that overall Female employees hold a higher job level position than their male counterparts\n",
    " \n",
    "3. **Over Time v/s Work Life Balance**: there is a minute difference seen in the overall work life balance. employees that do not work overtime have a slightly better work life Balance overall.\n",
    "\n",
    "4. **Performance Rating v/s Training time:** Overall the Average Hourly Rate is the Highest in the Finance Department and lowest in the Data Science Department, however as a whole the average Rate of all departments range between 60 and 70.\n",
    "\n",
    "5. **Attrition v/s NumCompaniesWorked** : shows a clear positive line Graph that showcases that the more the number of companies worked at will also have Attrition.\n",
    "    \n",
    "6. **Job Involvement v/s Job Satisfaction**: the line depicts that on an overall level as the Job Involvement increases the Job Satisfaction Decreases. \n",
    " \n",
    "7. **CurrentRoleExp v/s YearsSinceLastPromotion** bar graph shows a positive Relationship i.e. as the number of years in the current role increases, the years since last promoted also increases.  \n",
    "\n",
    "8. Relation Between **Environment Satisfaction and Years worked with Current Manager** depicts that, as the years with the current manager increases, on a overall their Environment Satisfaction reach two opposit extreams i.e. very high or very low satisfaction. in contrary the fewer years with the current manager shows a medium to high satisfaction. \n",
    "\n",
    "9. The Research and Development department and sales department employees have the highest overtime work percentage followed by Human Resources deptartment and Finance\n",
    "\n",
    "10.  **Impact of Distance Travelled to office On Employee Job Involvement**: The relationship between the two attributes is almost constant. as the travel distance increases theenployee job Involvement is constant between 2 to 3 i.e. medium to high\n",
    "\n",
    "11. **Impact of Total work experiance on the Hourly Rate**: it is observed that as the total work experiance increases, the hourly rate has bothe extremes of high Rate as well as Low. in contrary the lower the total work experiance is, the more constant and concentrated the hourly rate is 60-70 Rs.\n",
    "\n",
    "12. **Years with Current Manager v/s Relationship Satisfaction**: shows an almost constant but slightly upward trend betweent the two attributes(between 2.5 to 3.5). however at 16 years of work experiance the relations satisfaction rating dropped drastically to 1 (low), this may be considered an outlier. \n",
    "\n",
    "13. **Business Travel Frequency v/s Average Job Satisfaction**: Employees with high Business Travel Frequency show a higher 'average' job satisfaction, non Travellers show a lower satisfastion rating and those who travel rarely have the lowest Average satisfaction. however the average ratings range between 2.70 and 2.82 that is , Medium to high.\n",
    "\n"
   ]
  },
  {
   "cell_type": "markdown",
   "id": "58e3af04",
   "metadata": {},
   "source": [
    "### Bivariate Analysis V/s Performance Rating.\n",
    " **Average Performance ratings lesser and equal to 2.6 are marked in Red, \n",
    " **Agerage values between 2.6 and 3. and below are marked Blue\n",
    " ** and the rest between 3.0 and abover are categorized with the color green\n",
    "\n",
    "1. **Age** the minimun and maximum tails of the age group have a higher Performance Rating as compared to those in between.\n",
    "2. in the **JobRole** category, Business Analysts Senior Data Scientists, Developers and Technical Leads have an average rating of 3 and above i.e excellent and Outstanding.\n",
    "3. **Environment Satisfaction** those with an Environment Satisfaction of 3 & 4 have an Excellent-Outstanding Performance Rating\n",
    "4. The **EmpJobLevel** shows an Average Performance Rating of 3 with a slight decline as the Job Level increases. \n",
    "5. **NumCompaniesWorked**: employees who have worked with 4 companies overall have shown an Excelent performance rating, that probably comes with their eexpertise. where as those with more/less than 4 have a lower rating\n",
    "6. **EmpLastSalaryHikePercentage**: Employees with their last hike in Salary of 20% and above have shown an above 3 Performance rating throughout. this indicates that more the hike in salary better is the performance \n",
    "7. **WorkExp_Total** employees with Total work experiance at the company initially (from 1-12 years) and towards the end (31-34) have shown spikes in performance, however employees with 37 years of experiance with the company have shown a steep Decline in output.\n",
    "8. **EmpworkLifeBalance**: there is a noticeable incline in ther performance rating as the work life Balance increases, the employees with the best work life balance have an Excelent performance rating \n",
    "9. **WorkExp_Company**: between 32 and 23 years of company experiance there are multiple drops in the performance, wheres there are multiple spikes in performance below 8 years experiance and above 22 years of work experiance with the company.\n",
    "10. **Current Role Experiance** shows a drop in average performance rating at 14 and 16 years\n",
    "\n",
    "11. **YearsSinceLastPromoted** and **YearsWithCurrentManager** indicates an Excelent Performance in the Begining years and towards the end. however there is a drop in the performance rating between 8 and 12 years 'since an employee was last promoted'. and a similar drop is visible in 'Years with current manager' between 12 to 14 years.\n",
    "\n",
    "No Significant pattern seen in; \n",
    "\n",
    "**Gender** ( both male and felmale have a avg Performance rating of 3), **Education**,**EducationLevel**, **Maritial Status**, **jobInvolvement**, **EmpJobSatisfaction**,**EmpRelationshipSatisfaction** of employee also show an average Rating of 3. **Distance from Home**, **TrainingTimeLastYear** aslo shows a constant output, however beyond 16Km distance there is no average porformance exceeding  3. **HourlyRate** also has an almost constant Rating however at the rate of 52 there is a performance decline of 2.6 and below. employees that work **Overtime** shows a higher, however, negligible rating. employees with a record of **Attrition** indicated a slight dip in performance in contrary to those who do not."
   ]
  },
  {
   "cell_type": "markdown",
   "id": "b3daf0f7",
   "metadata": {},
   "source": [
    "### Multi Variate Analysis Findings- Heatmap and Correlation chart\n",
    "Note:There was no high correlation (correlation coefficient of 0.80- 1) between continuous variables.\n",
    "\n",
    "Columns with low Correlation Coefficient\n",
    "columns with a low correlation coefficient with the target 'PerformanceRating': threshold limit of +/- 0.05 (5%) and below to avoid information loss;\n",
    "Gender, Education, EmpJobInvolvement, EmpRelationshipSatisfaction, EmpJobSatisfaction, TrainingTimesLastYear etc .would be dropped only after careful consideration with the Chi2 score.\n",
    " \n",
    "(Work Experiance includes:  WorkExp_Total (-0.068 correlation coefficient) and WorkExp_Company(-0.111), i.e. The total work experiance also includes 'years worked in the company INX', since they both have a high correlation with the target, it will be retained), and further extraction was done using PCA. \n",
    "       \n",
    "#### **  **however After conducting the chi square test, the final decision to drop columns was made .** **\n",
    "\n",
    "\n",
    "\n",
    "\n",
    "_________________________________________________________________________________________________________"
   ]
  },
  {
   "cell_type": "markdown",
   "id": "e3b8cba3",
   "metadata": {},
   "source": [
    "# 4. Data Pre-Processing Findings\n",
    "\n",
    "- no null or duplicate values found.\n",
    "- data is encoded using LabelEncoder\n",
    "- Small number of outliers were found with the help of Box plots imputer with the median"
   ]
  },
  {
   "cell_type": "markdown",
   "id": "b5662140",
   "metadata": {},
   "source": [
    "#### Data Encoding - LableEncoder \n",
    "The data that is Categorical in Nominal/Ordinal form will be encoded using LableEncoder. and will be given values 0,1,2,3, and so on\n",
    "-Columns t bo encoded: Education, Gender, OverTime, Department, JobRole, BusinessTravelFrequency, MaritalStatus, Attrition."
   ]
  },
  {
   "cell_type": "markdown",
   "id": "524a769b",
   "metadata": {},
   "source": [
    "#### Finding Outliers - Using Box Plot\n",
    "- outliers below 1.5% were imputed\n",
    "- 1.5 % since the attributes have \"almost\" discrete columns as the count of unique values are known and have a limited range and not necessarily continuous.\n",
    "therefore to avoid information loss the threshold limit in this case will be 1.5%\n",
    "- IQR and median was used to imputation.\n",
    "\n",
    "\n",
    "\n",
    "______________________________________________________________________________________________________________"
   ]
  },
  {
   "cell_type": "markdown",
   "id": "262e39f6",
   "metadata": {},
   "source": [
    "# 5. Feature Engineering\n",
    "\n",
    "#### Feature Transformation: Standardization (StandardScalar)\n",
    "- It standardized/scaled features of the dataset, with a mean as 0\n",
    "- columns that require scaling are; 'Age','DistanceFromHome', 'EmpHourlyRate', 'EmpLastSalaryHikePercent', 'WorkExp_Total', 'WorkExp_Company', 'CurrentRoleExp', 'YearsSinceLastPromotion','YearsWithCurrManager'.\n",
    "\n",
    "#### Feature Selection: Chi sq\n",
    "- Chi square test checked the association between categorical variables, \n",
    "Features with the highest association with the target were used for further analysis, the features are;\n",
    "EmpLastSalaryHikePercent\n",
    "YearsSinceLastPromotion\n",
    "WorkExp_Company\n",
    "EnvironmentSatisfaction\n",
    "YearsWithCurrManager\n",
    "CurrentRoleExp\n",
    "WorkExp_Total\n",
    "JobRole\n",
    "DistanceFromHome\n",
    "EmpHourlyRate\n",
    "OverTime\n",
    "EmpJobLevel\n",
    "these columns can be retained, while the others will be dropped.\n",
    "\n",
    "List of cloums that were dropped on the basis of both :Chi2, and Correlation Coefficient;\n",
    "Age, Gender, Education, MaritalStatus, Department, BusinessTravelFrequency, EducationLevel, EmpJobInvolvement, EmpJobSatisfaction , NumCompaniesWorked, EmpRelationshipSatisfaction, TrainingTimesLastYear, Attrition, EmpJobLevel.\n",
    "\n",
    "\n",
    "#### Feature Extraction : Principal Component Analysis 'PCA'\n",
    "- PCA uses the orthogonal technique to extract maximum information in a lower dimension by following various patterns in data and extracts important features.\n",
    "- 8 PCA's were selected for further analysis, however the results with PCA showed decline on results. hence this Feature Extraction technique was not carried further.\n",
    "\n",
    "\n",
    "\n",
    "_____________________________________________________________________________________________"
   ]
  },
  {
   "cell_type": "markdown",
   "id": "abe27cd2",
   "metadata": {},
   "source": [
    "# 6. Models and Model Evaluation\n",
    "### Balanced the data using SMOTE.\n",
    "SMOTE (synthetic minority oversampling technique) : used to balance imbalanced data. It will balance the class distribution by randomly increasing the minority classes examples by replicating them.\n",
    "\n",
    "In this case rating of 2 and 4 are minority classes\n",
    "\n",
    "Models tried and tested;\n",
    "- Support Vector Classifier (Hyperparameter tuning was done)\n",
    "- Logistic Regression\n",
    "- Decision Tree Classifier(Hyperparameter tuning was done)\n",
    "- Random Forest Classifier(Hyperparameter tuning was done)\n",
    "- K-Nearest Neighbour\n",
    "- X-Gboost Classifier (Hyperparameter tuning was done)\n",
    "- Naive Bayes\n",
    "- Deep Learning model : Artificial Neural Network (Hyperparameter tuning was done)"
   ]
  },
  {
   "cell_type": "markdown",
   "id": "633e657f",
   "metadata": {},
   "source": [
    "#### Comparion Report- Using Pretty Table"
   ]
  },
  {
   "cell_type": "code",
   "execution_count": 5,
   "id": "b69848e0",
   "metadata": {},
   "outputs": [
    {
     "name": "stdout",
     "output_type": "stream",
     "text": [
      "+-------------------------------------------+----------+--------------------+--------------------+--------------------+\n",
      "|                   Model                   | Accuracy |      F1-Score      |       Recall       |     Precision      |\n",
      "+-------------------------------------------+----------+--------------------+--------------------+--------------------+\n",
      "|       *Random Forest (Before_Tuning)      |   0.9    | (0.86, 0.93, 0.75) | (0.88, 0.92, 0.79) | (0.84, 0.95, 0.71) |\n",
      "|       *Random Forest (After_Tuning)       |   0.9    | (0.84, 0.94, 0.78) | (0.86, 0.93, 0.81) | (0.82, 0.95, 0.74) |\n",
      "|          *XGBoost (Before_Tuning)         |   0.89   | (0.81, 0.93, 0.79) | (0.86, 0.91, 0.81) | (0.76, 0.94, 0.76) |\n",
      "|          *XGBoost (After_Tuning)          |   0.89   | (0.85, 0.93, 0.75) | (0.92, 0.9, 0.79)  | (0.79, 0.95, 0.71) |\n",
      "|       *Decision Tree (Before Tuning)      |   0.84   | (0.72, 0.9, 0.67)  | (0.78, 0.87, 0.74) | (0.68, 0.92, 0.62) |\n",
      "|       *Decision_Tree (After_Tuning)       |   0.86   | (0.75, 0.92, 0.69) | (0.78, 0.89, 0.79) | (0.72, 0.94, 0.62) |\n",
      "| *Artificial Neural Network (Before/After) |   0.81   | (0.72, 0.87, 0.57) | (0.82, 0.84, 0.63) | (0.65, 0.91, 0.53) |\n",
      "|         Support Vector Classifier         |   0.6    | (0.37, 0.71, 0.53) | (0.57, 0.58, 0.79) | (0.27, 0.91, 0.4)  |\n",
      "|   Support Vector Classifier after tuning  |   0.71   | (0.42, 0.82, 0.3)  | (0.45, 0.83, 0.26) | (0.4, 0.81, 0.35)  |\n",
      "|            Logistic Regression            |   0.68   | (0.51, 0.77, 0.53) | (0.67, 0.67, 0.77) | (0.41, 0.91, 0.4)  |\n",
      "|             K-NearestNeighbour            |   0.45   | (0.29, 0.55, 0.4)  | (0.61, 0.4, 0.56)  | (0.19, 0.87, 0.32) |\n",
      "|                Naive Bayes                |   0.33   | (0.38, 0.38, 0.19) | (0.73, 0.25, 0.4)  | (0.26, 0.78, 0.13) |\n",
      "+-------------------------------------------+----------+--------------------+--------------------+--------------------+\n"
     ]
    }
   ],
   "source": [
    "# from prettytable import PrettyTable\n",
    "#calculated the evaluation scores for each model separately\n",
    "\n",
    "from prettytable import PrettyTable\n",
    "# Assuming you have already calculated the evaluation scores for each model\n",
    "Random_Forest_Before_Tuning  = [0.90, (0.86,0.93,0.75),(0.88,0.92,0.79), (0.84,0.95,0.71)]\n",
    "Random_Forest_After_Tuning   = [0.90, (0.84,0.94,0.78),(0.86,0.93,0.81), (0.82,0.95,0.74)]\n",
    "XGBoost_Before_Tuning        = [0.89,  (0.81,0.93,0.79),(0.86,0.91,0.81), (0.76,0.94,0.76)]\n",
    "XGBoost_After_Tuning         = [0.89,  (0.85,0.93,0.75),(0.92,0.90,0.79), (0.79,0.95,0.71)]\n",
    "Decision_Tree_Before_Tuning  = [0.84, (0.72,0.90,0.67),(0.78,0.87,0.74), (0.68,0.92,0.62)]\n",
    "Decision_Tree_After_Tuning   = [0.86, (0.75,0.92,0.69),(0.78,0.89,0.79), (0.72,0.94,0.62)]\n",
    "Artificial_Neural_Network_Before_Tuning= [0.81, (0.72,0.87,0.57),(0.82,0.84,0.63), (0.65,0.91,0.53)]\n",
    "Support_Vector_before_tuning = [0.60, (0.37,0.71,0.53),(0.57,0.58,0.79), (0.27,0.91,0.40)]\n",
    "Support_Vector_after_tuning  = [0.71, (0.42,0.82,0.30),(0.45,0.83,0.26), (0.40,0.81,0.35)]\n",
    "Logistic_Regression          = [0.68, (0.51,0.77,0.53),(0.67,0.67,0.77), (0.41,0.91,0.40)]\n",
    "K_Nearest_Neighbour          = [0.45,  (0.29,0.55,0.40),(0.61,0.40,0.56), (0.19,0.87,0.32)]\n",
    "Naive_Bayes                  = [0.33,  (0.38,0.38,0.19),(0.73,0.25,0.40), (0.26,0.78,0.13)]\n",
    "\n",
    "\n",
    "# Create a PrettyTable instance and add columns\n",
    "table = PrettyTable()\n",
    "table.field_names = [\"Model\", \"Accuracy\", \"F1-Score\", \"Recall\", \"Precision\"]\n",
    "# Add rows for each model\n",
    "table.add_row([\"*Random Forest (Before_Tuning)\",*Random_Forest_Before_Tuning]) \n",
    "table.add_row([\"*Random Forest (After_Tuning)\",*Random_Forest_After_Tuning]) \n",
    "table.add_row([\"*XGBoost (Before_Tuning)\",*XGBoost_Before_Tuning])      \n",
    "table.add_row([\"*XGBoost (After_Tuning)\",*XGBoost_After_Tuning]) \n",
    "table.add_row([\"*Decision Tree (Before Tuning)\",*Decision_Tree_Before_Tuning])\n",
    "table.add_row([\"*Decision_Tree (After_Tuning)\",*Decision_Tree_After_Tuning])\n",
    "table.add_row([\"*Artificial Neural Network (Before/After)\",*Artificial_Neural_Network_Before_Tuning])\n",
    "table.add_row([\"Support Vector Classifier\",* Support_Vector_before_tuning])\n",
    "table.add_row([\"Support Vector Classifier after tuning\",* Support_Vector_after_tuning])\n",
    "table.add_row([\"Logistic Regression\",*Logistic_Regression])\n",
    "table.add_row([\"K-NearestNeighbour\",*K_Nearest_Neighbour])               \n",
    "table.add_row([\"Naive Bayes\",*Naive_Bayes])                  \n",
    "print(table)"
   ]
  },
  {
   "cell_type": "markdown",
   "id": "7111f022",
   "metadata": {},
   "source": [
    "Note:  The 3 Values under each evaluation matrix; F1-Score, Recall and Precision are of each Prerformance Rating **'2,3,4'**( 1  excluded, as No employees performance is reated 'low') this rating scale was re-labled as '0,1,2' respectively and represent 'Good, Excellent, Outstanding' Respectively \n",
    "\n",
    "\n",
    "__________________________________________________________________________________________________________"
   ]
  },
  {
   "cell_type": "markdown",
   "id": "b1c97238",
   "metadata": {},
   "source": [
    "# 7 TASKS"
   ]
  },
  {
   "cell_type": "markdown",
   "id": "f7a5f3b0",
   "metadata": {},
   "source": [
    "### Task 1. To Project Department wise performances\n",
    "**Assumptions: Research & Development and  Development (Assuming an entry Error), fall under the same umbrella, and and can be clubbed as 1 department i.e. Research and Development**\n",
    "Note: before merging the two, Development has 30% of the employees under it, and Research & Development has 29%\n",
    "after merging, Department was also be named as Research & Development and has about 60% of the work force under it ( 59% to be precise)\n",
    "\n",
    "Performance Rating scale: 1-Low, 2-Good, 3-Excellent, 4-Outstanding.  #for reference\n",
    "\n",
    "**A.** Average Performance Rating of Departments:  After calculating the Mean of all the 5 departments, it is observed that all departments have an approximate average Rating of 3, that is 'Excellent'. to be precise, the Data Science Department had the highest average rating of 3.05 followed by Research and development with 3 as the average,while and Human Resources, Sales and Finance rated 2.93, 2.86 and 2.77 on an average respectively.\n",
    "\n",
    "**B.** On plotting each department performance saperately, we can observe a similar pattern i.e. **3-'Excellent'** had the highest mode across all departments.\n",
    "- Employees from the  **Research and Development** and the **Human Resourse Department** have the highest 'Outstanding' rating i.e. above 11%, whereas the **Data science department** has the least percent of 'outstanding' rating, 5% , On the brighter side its employees have the highest excellent rating.\n",
    "- In contrary employees of the **Finance** and the **sales** Department have hightes rating of '2' in comparison to the other departments in the organization (31% and 23% respectively) . although 2 is a 'GOOD' rating, it is important to note that it is the lowest Rating given to any employee.\n",
    "\n",
    "this can also be seen as a major Drawback of this analysis, as No employee is given a rating of 1, which makes it difficult for the company to provide adequate training and counseling to enhance employee performance.\n",
    "\n"
   ]
  },
  {
   "cell_type": "markdown",
   "id": "85965db1",
   "metadata": {},
   "source": [
    "### Task 2. List of Top 3 Important Factors effecting employee performance\n",
    "\n",
    "with respect to Correlation the following attributrs are highly correlated to the Performance of an Employee.\n",
    "1. **EnvironmentSatisfaction**(correlation coefficient of 0.40)\n",
    "2. **EmpLastSalaryHikePercent**(correlation coefficient of 0.33)\n",
    "3. **YearsSinceLastPromotion**(correlation coefficient of -0.16)\n",
    "\n",
    "on the other hand, the chi2 association suggests that the below attributes have the highest Association with the Performance.\n",
    "- **a. EmpLastSalaryHikePercent  (297.136917)**\n",
    "- **b. YearsSinceLastPromotion  (238.004284)**\n",
    "- **c. WorkExp_Company  (133.602068)**\n",
    "\n",
    "These Factors show the highest correlation  and association with the Performance Rating of the employees. which means that any change in these factors will largly impact the performance of an employee\n",
    "\n",
    "EnvironmentSatisfaction and EmpLastSalaryHikePercent are positively correlated to the Performance Rating of an employee, i.e. a hike or drop in one would lead to a hike or drop in the performance rating respectively.\n",
    "on the other hand YearsSinceLastPromotion an performance rating are negatively coerrlated i.e. they have an inverse relation.\n",
    "\n",
    "\n",
    "(overall the top 5 attributes are slightly interchanged in the 2 different evaluation models.)"
   ]
  },
  {
   "cell_type": "markdown",
   "id": "830a29ca",
   "metadata": {},
   "source": [
    "### Task 3. To prepare a trained model which can predict the employee performance based on factors as inputs. This will be used to hire employees\n",
    "\n",
    "- The above prettyTable helps in comparing the Evaluation scores of each model.\n",
    "- The list of all the Models on the basis of their Evaluation Metrics  performance (High to Low)\n",
    "- Scores of F1 Score, Recall, Precision are in Weighted Average form below:\n",
    "\n",
    "1. **Random Forest Model**: Has an accuracy score of:**0.90**, F1 Score:**90**, Recall:**90**, Precision:**0.91** there is the best model for this Project. Followed by,\n",
    "\n",
    "2. **XGBoost Model**:  Has an accuracy score of:**0.89**, F1 Score:**89**, Recall:**89**, Precision:**0.90**, therefore the second best model. Followed by,\n",
    "\n",
    "3. **Decision Tree Model**:Has an accuracy score of:**0.86**, F1 Score:**87**, Recall:**86**, Precision:**0.87**, followed by,\n",
    "\n",
    "4. **Artificial Neural Network**: This model has an accuracy score of:**0.81**, F1 Score:**81**, Recall:**81**, Precision:**0.83**. Followed by,\n",
    "\n",
    "5. **Support Vector Classifier**: Has an accuracy score of:**0.71**, F1 Score:**70**, Recall:**71**, Precision:**0.70**, making it one of the least performing Models.\n",
    "\n",
    "6. **Logistic Regression Model**: Has an accuracy score of:**0.63**, F1 Score:**71**, Recall:**68**, Precision:**0.78**, followed by the lowest performing models;\n",
    "\n",
    "7. **K-NearestNeighbour Classifier**: Has an accuracy score of:**0.45**, F1 Score:**50**, Recall:**45**, Precision:**0.50**, low enough to not make accurate predictions. followed by,\n",
    "\n",
    "8. **Naive Bayes Model**: It an accuracy score of:**0.33**, F1 Score:**36**, Recall:**33**, Precision:**0.63**, making it unfit to make predictions for this data.\n",
    "\n",
    "#### Conclusion on Task 3: \n",
    "\n",
    "- From the above explaination and Pretty Table it can be concluded that the best performing model for this Data set is Random Forest, XGBoost, Decision Tree and Artificial Neural Network Model (respectively). These Models can Best predict the employee performance based inputs, and  to hire employees at INX Future Inc.\n"
   ]
  },
  {
   "cell_type": "markdown",
   "id": "d9db46ed",
   "metadata": {},
   "source": [
    "### Task 4. Recommendations to improve the employee performance based on insights from analysis\n",
    "\n",
    "\n",
    "**1. Indicators of non performing employees and Corrective measures INX can make**\n",
    "- Departments such as The Research and Development and sales department have the highest **overtime** work percentage these departments can have flixible work hours or work from home options or work with incentives. **The Last salary hike Percentage** playes a major role in the employee Performance Rating. As a recognition for their hard work such incentives can be given.\n",
    "- Employees from Departments such as Finance and Sales have a large percentage of Performance Rating '2' which is the lowest so far. these departments can be encouraged with similar incentives as it has a positive impact on Employee Performance.\n",
    "- the managemnet can ensure that their employees have a good manager managing them preferably one with a a lot of experiance as it is observed that the **current manager** can have a huge influence on the **Environment Satisfaction** of an employee and the environment Satisfaction inturn is a major component that effects the Performance rating of an employee. \n",
    "\n",
    "\n",
    "\n",
    "\n",
    "**2.** As per the management, there has been a noticeable increase in service delivery and Client satisfaction levels have come down by 8 percentage points**\n",
    "-  More employees can be recruited as the work load increases and employees have to face overtime specially in the Research and Development and sales Department, this would also lead to an improved  **Work Life Balance** of employees which is also affected in this process.\n",
    "- Youthful Employees of the Age 18-20 and senior most employees with expertise and experiance can be hired further on as they display higher performance. In contrary those Age groups in between with lower ratings can be given Training, Feedbacks, Replanishment activities/breaks after a heavy work load. when the employees serve with knowledge and expertise the customers satisfaction levels will rise.\n",
    "\n",
    "\n",
    "\n",
    "\n",
    "**3.** Insted of direct **Penalization of non-performing employees** above mentioned reccomendations can come in handy as they will have minimal/No impact on the morale of other employees \n",
    "- as the last resort, Non Performing Employees can be Terminated. this will have a low or negligible impact on other employees as the correlation coefficient between Attrition and Performance Rating is 0.039 (4%) this is an extremely low rate, this explains that the Attrition does not have a significant impact on Performance."
   ]
  },
  {
   "cell_type": "markdown",
   "id": "95f04db0",
   "metadata": {},
   "source": [
    "*Submission Date 23-0ctober-2023*"
   ]
  }
 ],
 "metadata": {
  "kernelspec": {
   "display_name": "Python 3 (ipykernel)",
   "language": "python",
   "name": "python3"
  },
  "language_info": {
   "codemirror_mode": {
    "name": "ipython",
    "version": 3
   },
   "file_extension": ".py",
   "mimetype": "text/x-python",
   "name": "python",
   "nbconvert_exporter": "python",
   "pygments_lexer": "ipython3",
   "version": "3.9.13"
  }
 },
 "nbformat": 4,
 "nbformat_minor": 5
}
